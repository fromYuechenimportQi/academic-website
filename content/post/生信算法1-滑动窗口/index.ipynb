{
 "cells": [
  {
   "cell_type": "raw",
   "metadata": {},
   "source": [
    "---\n",
    "title: 生信算法1-滑动窗口\n",
    "subtitle: 生信算法学习笔记\n",
    "summary: 生信算法学习笔记\n",
    "authors:\n",
    "- admin\n",
    "tags: [生信算法]\n",
    "categories: [生信算法]\n",
    "date: \"2023-07-16T00:00:00Z\"\n",
    "lastMod: \"2023-07-16T00:00:00Z\"\n",
    "featured: false\n",
    "draft: false\n",
    "\n",
    "# Featured image\n",
    "# To use, add an image named `featured.jpg/png` to your page's folder. \n",
    "image:\n",
    "  caption: \"\"\n",
    "  focal_point: \"\"\n",
    "\n",
    "# Projects (optional).\n",
    "#   Associate this post with one or more of your projects.\n",
    "#   Simply enter your project's folder or file name without extension.\n",
    "#   E.g. `projects = [\"internal-project\"]` references \n",
    "#   `content/project/deep-learning/index.md`.\n",
    "#   Otherwise, set `projects = []`.\n",
    "projects: []\n",
    "---"
   ]
  },
  {
   "cell_type": "markdown",
   "metadata": {},
   "source": [
    "**注：本系列文章是<em>[Bioinformatics Algorithms](https://www.bioinformaticsalgorithms.org/)</em>的学习笔记，包含大量的个人理解**"
   ]
  },
  {
   "cell_type": "markdown",
   "metadata": {},
   "source": [
    "## 一、背景\n",
    "  在物种的某个基因中，如果某个motif的重复次数很多，那么该motif对于该基因的调控可能起到非常关键的作用\n",
    "  \n",
    "  打个比方，我们知道，DNA聚合酶可以结合到基因组的复制起始位点(_ori_)上的DnaA box，从而复制某个基因。\n",
    "  \n",
    "  下面给定的序列是霍乱致病菌(_Vibrio cholerae_)的*ori*"
   ]
  },
  {
   "cell_type": "code",
   "execution_count": 4,
   "metadata": {},
   "outputs": [],
   "source": [
    "ori = '''atcaatgatcaacgtaagcttctaagcatgatcaaggtgctcacacagtttatccacaac\n",
    "ctgagtggatgacatcaagataggtcgttgtatctccttcctctcgtactctcatgacca\n",
    "cggaaagatgatcaagagaggatgatttcttggccatatcgcaatgaatacttgtgactt\n",
    "gtgcttccaattgacatcttcagcgccatattgcgctggccaaggtgacggagcgggatt\n",
    "acgaaagcatgatcatggctgttgttctgtttatcttgttttgactgagacttgttagga\n",
    "tagacggtttttcatcactgactagccaaagccttactctgcctgacatcgaccgtaaat\n",
    "tgataatgaatttacatgcttccgcgacgatttacctcttgatcatcgatccgattgaag\n",
    "atcttcaattgttaattctcttgcctcgactcatagccatgatgagctcttgatcatgtt\n",
    "tccttaaccctctattttttacggaagaatgatcaagctgctgctcttgatcatcgtttc'''.replace('\\n','')"
   ]
  },
  {
   "cell_type": "markdown",
   "metadata": {},
   "source": [
    "我们如何找到它的DnaA box呢？\n",
    "\n",
    "**研究者们已通过实验证明，DnaA box通常是一段9-mer(长度为9bp的核苷酸序列)**"
   ]
  },
  {
   "cell_type": "markdown",
   "metadata": {},
   "source": [
    "## 二、思路\n",
    "\n",
    "我们可以将这个问题看作是：在一个给定的字符串中，找到**出现频率最高的**子字符串，而我们知道DnaA box通常是9-mer，因此，我们需要找到**出现频率最高、且长度为9的**子字符串\n",
    "\n"
   ]
  },
  {
   "cell_type": "markdown",
   "metadata": {},
   "source": [
    "## 三、解题\n",
    "\n",
    "1. 要找到子字符串，我们需要使用双指针法\n",
    "\n",
    "2. 我们定义两个指针，start_pointer和end_pointer，并使**index(end_pointer)-index(start_pointer)=9**\n",
    "\n",
    "3. 两个指针同时往前走，遍历字符串\n",
    "\n",
    "由于两个指针的行动方式酷似一个在滑动的窗子，因此该方法又叫做滑动窗口(slide a window)\n",
    "\n",
    "要找到出现频率最高的子字符串，我们首先需要计算子字符串在字符串中出现的次数"
   ]
  },
  {
   "cell_type": "code",
   "execution_count": 2,
   "metadata": {},
   "outputs": [
    {
     "name": "stdout",
     "output_type": "stream",
     "text": [
      "3\n"
     ]
    }
   ],
   "source": [
    "def count(text, pattern):\n",
    "    #初始化计数器\n",
    "    count = 0\n",
    "    for i in range(len(text) - len(pattern) + 1):\n",
    "        #滑动窗口start_pointer和end_pointer\n",
    "        start_pointer = i\n",
    "        end_pointer = i + len(pattern)\n",
    "        #字符串切片得到子字符串\n",
    "        if text[start_pointer:end_pointer] == pattern:\n",
    "            count += 1\n",
    "    return count\n",
    "\n",
    "text = \"ACGTTTCACGTTTTACGG\"\n",
    "pattern = \"ACG\"\n",
    "print(count(text, pattern))"
   ]
  },
  {
   "cell_type": "markdown",
   "metadata": {},
   "source": [
    "接下来，我们就可以统计出现频率最高、且长度为9的子字符串了"
   ]
  },
  {
   "cell_type": "code",
   "execution_count": 5,
   "metadata": {},
   "outputs": [
    {
     "data": {
      "text/plain": [
       "['cttgatcat', 'ctcttgatc', 'atgatcaag', 'tcttgatca']"
      ]
     },
     "execution_count": 5,
     "metadata": {},
     "output_type": "execute_result"
    }
   ],
   "source": [
    "def frequent_words(text,k):\n",
    "    frequent_patterns = []\n",
    "    count_list = []\n",
    "    #计算每个kmer的频率\n",
    "    for i in range(len(text) - k + 1):\n",
    "        pattern = text[i:i+k]\n",
    "        count_list.append(count(text,pattern))\n",
    "    #找到最大频率\n",
    "    max_count = max(count_list)\n",
    "    #找到最大频率的kmer\n",
    "    for i in range(len(text) - k + 1):\n",
    "        if count_list[i] == max_count:\n",
    "            frequent_patterns.append(text[i:i+k])\n",
    "    return list(set(frequent_patterns))\n",
    "\n",
    "frequent_words(ori,9)"
   ]
  },
  {
   "cell_type": "markdown",
   "metadata": {},
   "source": [
    "我们通过上述方法，找到了出现次数最多的9-mer，但是该算法真的好吗？\n",
    "\n",
    "我们在寻找9-mer的过程中，遍历了字符串，但是在计算9-mer出现频率时，又从头到尾遍历了字符串，那么该算法的时间复杂度为O(n^2)\n",
    "\n",
    "这个问题有更好的算法吗？\n",
    "\n",
    "我们不妨这么想，假设手头只有纸笔，我们会边找k-mer，边把该k-mer及对应的出现次数记录在纸上，再次遇到该k-mer时，次数+1，那么这样就只需要遍历一次就好了！\n",
    "\n",
    "在计算机中，该方法成为哈希法，是一种经典的用空间换取时间的方法"
   ]
  },
  {
   "cell_type": "code",
   "execution_count": 9,
   "metadata": {},
   "outputs": [
    {
     "name": "stdout",
     "output_type": "stream",
     "text": [
      "['atgatcaag', 'ctcttgatc', 'tcttgatca', 'cttgatcat']\n"
     ]
    }
   ],
   "source": [
    "def frequent_words_hash(text,k):\n",
    "    #初始化哈希表\n",
    "    frequent_dict = {}\n",
    "    #计算每个kmer的频率\n",
    "    for i in range(len(text) - k + 1):\n",
    "        pattern = text[i:i+k]\n",
    "        if pattern in frequent_dict.keys():\n",
    "            frequent_dict[pattern] += 1\n",
    "        else:\n",
    "            frequent_dict[pattern] = 1\n",
    "    #找到最大频率\n",
    "    max_count = max(frequent_dict.values())\n",
    "    #找到最大频率的kmer\n",
    "    frequent_patterns = []\n",
    "    for key in frequent_dict.keys():\n",
    "        if frequent_dict[key] == max_count:\n",
    "            frequent_patterns.append(key)\n",
    "    return frequent_patterns\n",
    "\n",
    "print(frequent_words_hash(ori,9))"
   ]
  }
 ],
 "metadata": {
  "kernelspec": {
   "display_name": "Python 3",
   "language": "python",
   "name": "python3"
  },
  "language_info": {
   "codemirror_mode": {
    "name": "ipython",
    "version": 3
   },
   "file_extension": ".py",
   "mimetype": "text/x-python",
   "name": "python",
   "nbconvert_exporter": "python",
   "pygments_lexer": "ipython3",
   "version": "3.11.0"
  }
 },
 "nbformat": 4,
 "nbformat_minor": 4
}
